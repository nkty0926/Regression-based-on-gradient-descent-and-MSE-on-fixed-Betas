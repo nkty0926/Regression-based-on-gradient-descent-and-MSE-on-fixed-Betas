{
 "cells": [
  {
   "cell_type": "code",
   "execution_count": 1,
   "metadata": {
    "collapsed": true,
    "pycharm": {
     "name": "#%%\n"
    }
   },
   "outputs": [],
   "source": [
    "from regression import get_dataset,print_stats,regression,iterate_gradient,gradient_descent,compute_betas,predict,sgd"
   ]
  },
  {
   "cell_type": "code",
   "execution_count": 2,
   "outputs": [
    {
     "data": {
      "text/plain": "array([[12.6   ,  1.0708, 23.    , ..., 32.    , 27.4   , 17.1   ],\n       [ 6.9   ,  1.0853, 22.    , ..., 30.5   , 28.9   , 18.2   ],\n       [24.6   ,  1.0414, 22.    , ..., 28.8   , 25.2   , 16.6   ],\n       ...,\n       [28.3   ,  1.0328, 72.    , ..., 31.3   , 27.2   , 18.    ],\n       [25.3   ,  1.0399, 72.    , ..., 30.5   , 29.4   , 19.8   ],\n       [30.7   ,  1.0271, 74.    , ..., 33.7   , 30.    , 20.9   ]])"
     },
     "execution_count": 2,
     "metadata": {},
     "output_type": "execute_result"
    }
   ],
   "source": [
    "get_dataset('bodyfat.csv')"
   ],
   "metadata": {
    "collapsed": false,
    "pycharm": {
     "name": "#%%\n"
    }
   }
  },
  {
   "cell_type": "code",
   "execution_count": 3,
   "outputs": [
    {
     "data": {
      "text/plain": "(252, 16)"
     },
     "execution_count": 3,
     "metadata": {},
     "output_type": "execute_result"
    }
   ],
   "source": [
    "dataset = get_dataset('bodyfat.csv')\n",
    "dataset.shape"
   ],
   "metadata": {
    "collapsed": false,
    "pycharm": {
     "name": "#%%\n"
    }
   }
  },
  {
   "cell_type": "code",
   "execution_count": 4,
   "outputs": [
    {
     "name": "stdout",
     "output_type": "stream",
     "text": [
      "252\n",
      "1.06\n",
      "0.02\n"
     ]
    }
   ],
   "source": [
    "data = get_dataset('bodyfat.csv')\n",
    "print_stats(dataset, 1)  # summary of density"
   ],
   "metadata": {
    "collapsed": false,
    "pycharm": {
     "name": "#%%\n"
    }
   }
  },
  {
   "cell_type": "code",
   "execution_count": 5,
   "outputs": [
    {
     "data": {
      "text/plain": "418.50384920634906"
     },
     "execution_count": 5,
     "metadata": {},
     "output_type": "execute_result"
    }
   ],
   "source": [
    "regression(dataset, cols=[2,3], betas=[0,0,0])"
   ],
   "metadata": {
    "collapsed": false,
    "pycharm": {
     "name": "#%%\n"
    }
   }
  },
  {
   "cell_type": "code",
   "execution_count": 6,
   "outputs": [
    {
     "data": {
      "text/plain": "11859.174086111105"
     },
     "execution_count": 6,
     "metadata": {},
     "output_type": "execute_result"
    }
   ],
   "source": [
    "regression(dataset, cols=[2,3,4], betas=[0,-1.1,-.2,3])"
   ],
   "metadata": {
    "collapsed": false,
    "pycharm": {
     "name": "#%%\n"
    }
   }
  },
  {
   "cell_type": "code",
   "execution_count": 7,
   "outputs": [
    {
     "data": {
      "text/plain": "array([  -37.87698413, -1756.37222222, -7055.35138889])"
     },
     "execution_count": 7,
     "metadata": {},
     "output_type": "execute_result"
    }
   ],
   "source": [
    "gradient_descent(dataset, cols=[2,3], betas=[0,0,0])"
   ],
   "metadata": {
    "collapsed": false,
    "pycharm": {
     "name": "#%%\n"
    }
   }
  },
  {
   "cell_type": "code",
   "execution_count": 8,
   "outputs": [
    {
     "name": "stdout",
     "output_type": "stream",
     "text": [
      "1 423085332.40 394.45 -405.84 -220.18 \n",
      "2 229744495.73 398.54 -401.54 163.14 \n",
      "3 124756241.68 395.53 -404.71 -119.33 \n",
      "4 67745350.04 397.75 -402.37 88.82 \n",
      "5 36787203.39 396.11 -404.09 -64.57 \n",
      "6 19976260.50 397.32 -402.82 48.47 \n",
      "7 10847555.07 396.43 -403.76 -34.83 \n",
      "8 5890470.68 397.09 -403.07 26.55 \n",
      "9 3198666.69 396.60 -403.58 -18.68 \n",
      "10 1736958.93 396.96 -403.20 14.65 \n"
     ]
    }
   ],
   "source": [
    "iterate_gradient(dataset, cols=[1,8], betas=[400,-400,300], T=10, eta=1e-4)"
   ],
   "metadata": {
    "collapsed": false,
    "pycharm": {
     "name": "#%%\n"
    }
   }
  },
  {
   "cell_type": "code",
   "execution_count": 9,
   "outputs": [
    {
     "data": {
      "text/plain": "(1.4029395600144494,\n 441.35259435963235,\n -400.59549536891564,\n 0.009892204826142503)"
     },
     "execution_count": 9,
     "metadata": {},
     "output_type": "execute_result"
    }
   ],
   "source": [
    "compute_betas(dataset, cols=[1,2])"
   ],
   "metadata": {
    "collapsed": false,
    "pycharm": {
     "name": "#%%\n"
    }
   }
  },
  {
   "cell_type": "code",
   "execution_count": 10,
   "outputs": [
    {
     "data": {
      "text/plain": "12.622458629598798"
     },
     "execution_count": 10,
     "metadata": {},
     "output_type": "execute_result"
    }
   ],
   "source": [
    "predict(dataset, cols=[1,2], features=[1.0708, 23])"
   ],
   "metadata": {
    "collapsed": false,
    "pycharm": {
     "name": "#%%\n"
    }
   }
  },
  {
   "cell_type": "code",
   "execution_count": 11,
   "outputs": [
    {
     "name": "stdout",
     "output_type": "stream",
     "text": [
      "1 387.33 0.00 0.00 0.00 \n",
      "2 379.60 0.00 0.00 0.01 \n",
      "3 335.99 0.00 0.00 0.01 \n",
      "4 285.89 0.00 0.00 0.02 \n",
      "5 245.75 0.00 0.01 0.03 \n"
     ]
    }
   ],
   "source": [
    "sgd(dataset, cols=[2,3], betas=[0,0,0], T=5, eta=1e-6)"
   ],
   "metadata": {
    "collapsed": false,
    "pycharm": {
     "name": "#%%\n"
    }
   }
  },
  {
   "cell_type": "code",
   "execution_count": 12,
   "outputs": [
    {
     "name": "stdout",
     "output_type": "stream",
     "text": [
      "1 123.77 -40.00 0.01 0.52 \n",
      "2 105.37 -40.00 0.01 0.53 \n",
      "3 72.07 -40.00 0.02 0.55 \n",
      "4 50.75 -40.00 0.02 0.57 \n",
      "5 29.90 -40.00 0.04 0.58 \n",
      "6 21.53 -40.00 0.05 0.60 \n",
      "7 20.57 -40.00 0.05 0.60 \n",
      "8 20.90 -40.00 0.05 0.62 \n",
      "9 19.96 -40.00 0.05 0.62 \n",
      "10 20.09 -40.00 0.05 0.62 \n"
     ]
    }
   ],
   "source": [
    "sgd(dataset, cols=[2,8], betas=[-40,0,0.5], T=10, eta=1e-5)"
   ],
   "metadata": {
    "collapsed": false,
    "pycharm": {
     "name": "#%%\n"
    }
   }
  }
 ],
 "metadata": {
  "kernelspec": {
   "display_name": "Python 3",
   "language": "python",
   "name": "python3"
  },
  "language_info": {
   "codemirror_mode": {
    "name": "ipython",
    "version": 2
   },
   "file_extension": ".py",
   "mimetype": "text/x-python",
   "name": "python",
   "nbconvert_exporter": "python",
   "pygments_lexer": "ipython2",
   "version": "2.7.6"
  }
 },
 "nbformat": 4,
 "nbformat_minor": 0
}